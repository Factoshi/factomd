{
 "cells": [
  {
   "cell_type": "code",
   "execution_count": 2,
   "metadata": {},
   "outputs": [],
   "source": [
    "import psycopg2 as pg\n",
    "import pandas.io.sql as psql\n",
    "import pandas as pd"
   ]
  },
  {
   "cell_type": "code",
   "execution_count": 3,
   "metadata": {},
   "outputs": [],
   "source": [
    "query_simtest = \"\"\"\n",
    "SELECT\n",
    "  run,\n",
    "  trim('\"' FROM seq::text )::int as seq,\n",
    "  trim('\"' FROM block::text )::int as block,\n",
    "  trim('\"' FROM min::text )::int as min,\n",
    "  --e0,\n",
    "  e1::decimal/100000000 as batch_sec, -- time in sec as\n",
    "  --e2\n",
    "  ts::text::time\n",
    "\n",
    "FROM\n",
    "  (SELECT\n",
    "    run,\n",
    "    e->'ts' as ts,\n",
    "    e->'seq' as seq,\n",
    "    e->'log'->'height' as block,\n",
    "    e->'log'->'min' as min,\n",
    "    --e->'log'->'event' as event,\n",
    "    e->'log'->'event'->0 as e0,\n",
    "    e->'log'->'event'->1 as e1,\n",
    "    e->'log'->'event'->2 as e2\n",
    "  FROM\n",
    "    fnode0.simtest) as s\n",
    "WHERE\n",
    "  e2::text like '%RUNTIME%'\n",
    "ORDER BY\n",
    "  run, seq ;\n",
    "\"\"\"\n",
    "\n",
    "connection = pg.connect(\"host='localdb' dbname=load user=load password='load'\")\n"
   ]
  },
  {
   "cell_type": "code",
   "execution_count": 4,
   "metadata": {},
   "outputs": [
    {
     "name": "stdout",
     "output_type": "stream",
     "text": [
      "   run       seq  block  min  batch_sec               ts\n",
      "0    1     51597      5    1  16.796477  22:41:59.534000\n",
      "1    1    167368      6    0  56.835707  22:42:30.721000\n",
      "2    1    288768      7    0  50.843028  22:43:02.809000\n",
      "3    1   1510106      8    0  62.631397  22:43:43.576000\n",
      "4    1   3125080      9    0  63.903940  22:44:43.222000\n",
      "5    1   4732400     10    0  75.828357  22:45:44.062000\n",
      "6    1   6341174     11    0  68.763264  22:46:43.446000\n",
      "7    1   7948681     12    0  82.824721         22:47:45\n",
      "8    1   9138769     13    0  56.882989  22:48:27.443000\n",
      "9    1  10711409     14    0  69.939835  22:49:28.443000\n"
     ]
    }
   ],
   "source": [
    "df = pd.read_sql_query(query_simtest,con=connection)\n",
    "print(df)"
   ]
  },
  {
   "cell_type": "code",
   "execution_count": 5,
   "metadata": {},
   "outputs": [
    {
     "name": "stdout",
     "output_type": "stream",
     "text": [
      "High five! You successfully sent some data to your account on plotly. View your plot in your browser at https://plot.ly/~stackdump/0 or inside your plot.ly account where it is named 'time-series-simple'\n"
     ]
    },
    {
     "data": {
      "text/html": [
       "<iframe id=\"igraph\" scrolling=\"no\" style=\"border:none;\" seamless=\"seamless\" src=\"https://plot.ly/~stackdump/0.embed\" height=\"525px\" width=\"100%\"></iframe>"
      ],
      "text/plain": [
       "<plotly.tools.PlotlyDisplay object>"
      ]
     },
     "execution_count": 5,
     "metadata": {},
     "output_type": "execute_result"
    }
   ],
   "source": [
    "import plotly.plotly as py\n",
    "import plotly.graph_objs as go\n",
    "\n",
    "import pandas as pd\n",
    "from datetime import datetime\n",
    "\n",
    "data = [\n",
    "    go.Scatter(x=df['ts'], y=df['batch_sec']),\n",
    "\n",
    "]\n",
    "\n",
    "py.iplot(data, filename = 'time-series-simple')"
   ]
  },
  {
   "cell_type": "code",
   "execution_count": null,
   "metadata": {},
   "outputs": [],
   "source": []
  }
 ],
 "metadata": {
  "kernelspec": {
   "display_name": "Python 3",
   "language": "python",
   "name": "python3"
  },
  "language_info": {
   "codemirror_mode": {
    "name": "ipython",
    "version": 3
   },
   "file_extension": ".py",
   "mimetype": "text/x-python",
   "name": "python",
   "nbconvert_exporter": "python",
   "pygments_lexer": "ipython3",
   "version": "3.6.7"
  }
 },
 "nbformat": 4,
 "nbformat_minor": 2
}
