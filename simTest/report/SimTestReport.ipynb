{
 "cells": [
  {
   "cell_type": "code",
   "execution_count": 1,
   "metadata": {},
   "outputs": [],
   "source": [
    "import psycopg2 as pg\n",
    "import pandas.io.sql as psql\n",
    "import pandas as pd"
   ]
  },
  {
   "cell_type": "code",
   "execution_count": 2,
   "metadata": {},
   "outputs": [],
   "source": [
    "query_simtest = \"\"\"\n",
    "SELECT\n",
    "  run,\n",
    "  trim('\"' FROM seq::text )::int as seq,\n",
    "  trim('\"' FROM block::text )::int as block,\n",
    "  trim('\"' FROM min::text )::int as min,\n",
    "  --e0,\n",
    "  e1::decimal/100000000 as batch_sec, -- time in sec as\n",
    "  --e2\n",
    "  ts::text::time\n",
    "\n",
    "FROM\n",
    "  (SELECT\n",
    "    run,\n",
    "    e->'ts' as ts,\n",
    "    e->'seq' as seq,\n",
    "    e->'log'->'height' as block,\n",
    "    e->'log'->'min' as min,\n",
    "    --e->'log'->'event' as event,\n",
    "    e->'log'->'event'->0 as e0,\n",
    "    e->'log'->'event'->1 as e1,\n",
    "    e->'log'->'event'->2 as e2\n",
    "  FROM\n",
    "    fnode0.simtest) as s\n",
    "WHERE\n",
    "  e2::text like '%RUNTIME%'\n",
    "ORDER BY\n",
    "  run, seq ;\n",
    "\"\"\"\n",
    "\n",
    "connection = pg.connect(\"host='localdb' dbname=load user=load password='load'\")\n"
   ]
  },
  {
   "cell_type": "code",
   "execution_count": 3,
   "metadata": {},
   "outputs": [
    {
     "name": "stdout",
     "output_type": "stream",
     "text": [
      "    run       seq  block  min   batch_sec               ts\n",
      "0     7   1830233      5    8  578.162330  12:21:18.248000\n",
      "1     7   3116854      6    6  532.620520  12:22:18.375000\n",
      "2     7   4791678      7    6  566.715633  12:23:33.056000\n",
      "3     7   6536849      8    8  629.832541  12:24:54.313000\n",
      "4     7   8133057      9    6  569.017939  12:26:03.230000\n",
      "5     7   9738099     10    7  593.588528  12:27:15.357000\n",
      "6     7  11650500     11    8  653.271886  12:28:30.438000\n",
      "7     7  13358093     12    6  589.922541  12:29:36.272000\n",
      "8     7  14965296     13    8  636.308546  12:30:52.656000\n",
      "9     7  16708646     14    6  673.693822  12:32:05.280000\n",
      "10    7  18108874     15    7  548.196893  12:33:12.232000\n",
      "11    7  19806883     16    6  602.275537  12:34:22.324000\n",
      "12    7  21837641     18    1  740.201193  12:35:48.347000\n"
     ]
    }
   ],
   "source": [
    "df = pd.read_sql_query(query_simtest,con=connection)\n",
    "print(df)"
   ]
  },
  {
   "cell_type": "code",
   "execution_count": 4,
   "metadata": {},
   "outputs": [
    {
     "name": "stderr",
     "output_type": "stream",
     "text": [
      "/home/ork/.local/share/virtualenvs/simTest-WFD6H9bp/lib/python3.6/site-packages/IPython/core/display.py:689: UserWarning:\n",
      "\n",
      "Consider using IPython.display.IFrame instead\n",
      "\n"
     ]
    },
    {
     "data": {
      "text/html": [
       "<iframe id=\"igraph\" scrolling=\"no\" style=\"border:none;\" seamless=\"seamless\" src=\"https://plot.ly/~stackdump/8.embed\" height=\"525px\" width=\"100%\"></iframe>"
      ],
      "text/plain": [
       "<plotly.tools.PlotlyDisplay object>"
      ]
     },
     "execution_count": 4,
     "metadata": {},
     "output_type": "execute_result"
    }
   ],
   "source": [
    "import plotly.plotly as py\n",
    "import plotly.graph_objs as go\n",
    "\n",
    "import pandas as pd\n",
    "from datetime import datetime\n",
    "\n",
    "data = [\n",
    "    go.Scatter(x=df['ts'], y=df['batch_sec']),\n",
    "\n",
    "]\n",
    "\n",
    "py.iplot(data, filename = 'time-series-simple')"
   ]
  },
  {
   "cell_type": "code",
   "execution_count": null,
   "metadata": {},
   "outputs": [],
   "source": []
  }
 ],
 "metadata": {
  "kernelspec": {
   "display_name": "Python 3",
   "language": "python",
   "name": "python3"
  },
  "language_info": {
   "codemirror_mode": {
    "name": "ipython",
    "version": 3
   },
   "file_extension": ".py",
   "mimetype": "text/x-python",
   "name": "python",
   "nbconvert_exporter": "python",
   "pygments_lexer": "ipython3",
   "version": "3.6.7"
  }
 },
 "nbformat": 4,
 "nbformat_minor": 2
}
